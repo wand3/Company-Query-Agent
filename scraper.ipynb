{
 "cells": [
  {
   "cell_type": "code",
   "execution_count": 5,
   "metadata": {},
   "outputs": [
    {
     "ename": "ModuleNotFoundError",
     "evalue": "No module named 'playwright'",
     "output_type": "error",
     "traceback": [
      "\u001b[0;31m---------------------------------------------------------------------------\u001b[0m",
      "\u001b[0;31mModuleNotFoundError\u001b[0m                       Traceback (most recent call last)",
      "Cell \u001b[0;32mIn[5], line 8\u001b[0m\n\u001b[1;32m      6\u001b[0m \u001b[38;5;28;01mfrom\u001b[39;00m\u001b[38;5;250m \u001b[39m\u001b[38;5;21;01mpathlib\u001b[39;00m\u001b[38;5;250m \u001b[39m\u001b[38;5;28;01mimport\u001b[39;00m Path\n\u001b[1;32m      7\u001b[0m \u001b[38;5;28;01mfrom\u001b[39;00m\u001b[38;5;250m \u001b[39m\u001b[38;5;21;01mscraper\u001b[39;00m\u001b[38;5;21;01m.\u001b[39;00m\u001b[38;5;21;01mlogger\u001b[39;00m\u001b[38;5;250m \u001b[39m\u001b[38;5;28;01mimport\u001b[39;00m setup_logger\n\u001b[0;32m----> 8\u001b[0m \u001b[38;5;28;01mfrom\u001b[39;00m\u001b[38;5;250m \u001b[39m\u001b[38;5;21;01mplaywright\u001b[39;00m\u001b[38;5;21;01m.\u001b[39;00m\u001b[38;5;21;01masync_api\u001b[39;00m\u001b[38;5;250m \u001b[39m\u001b[38;5;28;01mimport\u001b[39;00m Playwright, async_playwright, expect\n\u001b[1;32m     11\u001b[0m \u001b[38;5;66;03m# random delay time using uniform, so it uses floats instead of int to simulate human randomness\u001b[39;00m\n\u001b[1;32m     12\u001b[0m delay \u001b[38;5;241m=\u001b[39m random\u001b[38;5;241m.\u001b[39muniform(\u001b[38;5;241m3\u001b[39m, \u001b[38;5;241m7\u001b[39m)\n",
      "\u001b[0;31mModuleNotFoundError\u001b[0m: No module named 'playwright'"
     ]
    }
   ],
   "source": [
    "from scraper.actions.base import linkednController\n",
    "import asyncio\n",
    "import json\n",
    "import random\n",
    "# import pandas as pd\n",
    "from pathlib import Path\n",
    "from scraper.logger import setup_logger\n",
    "from playwright.async_api import Playwright, async_playwright, expect\n",
    "\n",
    "\n",
    "# random delay time using uniform, so it uses floats instead of int to simulate human randomness\n",
    "delay = random.uniform(3, 7)\n",
    "short_delay = random.uniform(2, 4)\n",
    "\n",
    "logger = setup_logger(\"linkedn\", \"INFO\")\n",
    "\n",
    "\n",
    "async def navigate():\n",
    "    async with async_playwright() as p:\n",
    "        # browser configs\n",
    "        browser = await p.firefox.launch(headless=False)\n",
    "        context = await browser.new_context(\n",
    "            # viewport={\"width\": 414, \"height\": 896},  # iPhone 11 viewport size\n",
    "            # user_agent=\"Mozilla/5.0 (iPhone; CPU iPhone OS 14_6 like Mac OS X) AppleWebKit/605.1.15 (KHTML, like Gecko) Version/14.0.3 Mobile/15E148 Safari/604.1\"\n",
    "            viewport={\"width\": 1440, \"height\": 900},  # macbook air viewport size\n",
    "            user_agent=\"Mozilla/5.0 (Macintosh; Intel Mac OS X 10.15; rv:134.0) Gecko/20100101 Firefox/134.0\",\n",
    "            locale=\"en-NG\",  # 'en-NG' for English in Nigeria\n",
    "            timezone_id=\"Africa/Lagos\",  # Lagos is the most common timezone for Nigeria, including Abuja\n",
    "            color_scheme=\"light\",\n",
    "            permissions=[],\n",
    "            extra_http_headers={\n",
    "                \"Accept-Language\": \"en-NG,en;q=0.9\",  # Prioritize Nigerian English\n",
    "                \"Sec-Fetch-Dest\": \"document\",\n",
    "                \"Sec-Fetch-Mode\": \"navigate\",\n",
    "                # Consider adding a realistic User-Agent\n",
    "                \"user_agent\": \"Mozilla/5.0 (Macintosh; Intel Mac OS X 10.15; rv:134.0) Gecko/20100101 Firefox/134.0\"\n",
    "\n",
    "            }\n",
    "        )\n",
    "\n",
    "        # Disable webdriver detection\n",
    "        await context.add_init_script(\n",
    "            \"\"\"\n",
    "                delete navigator.__proto__.webdriver;\n",
    "                Object.defineProperty(navigator, 'plugins', {\n",
    "                    get: () => [1, 2, 3]\n",
    "                });\n",
    "            \"\"\"\n",
    "            )\n",
    "\n",
    "        # Load the CSV file into a DataFrame\n",
    "        # df = pd.read_csv('data.csv')\n",
    "\n",
    "        page = await context.new_page()\n",
    "        page.set_default_timeout(15000)\n",
    "\n",
    "        from scraper.actions.login import loginAcct\n",
    "        controller = linkednController()\n",
    "        controller.add_command(loginAcct(page, context, \"https://www.linkedin.com\"))\n",
    "        await controller.execute_commands()\n",
    "        controller.clear_commands()\n",
    "\n",
    "        logger.info(\"Auth complete\")\n",
    "        from scraper.actions.search import search\n",
    "        controller.add_command(search(page, context, name=\"Merec Industries\", logger=logger))\n",
    "        await controller.execute_commands()\n",
    "        controller.clear_commands()\n",
    "\n",
    "        await page.close()\n",
    "        await context.close()\n",
    "\n",
    "\n",
    "if __name__ == \"__main__\":\n",
    "    asyncio.run(navigate())"
   ]
  }
 ],
 "metadata": {
  "kernelspec": {
   "display_name": "Python 3",
   "language": "python",
   "name": "python3"
  },
  "language_info": {
   "codemirror_mode": {
    "name": "ipython",
    "version": 3
   },
   "file_extension": ".py",
   "mimetype": "text/x-python",
   "name": "python",
   "nbconvert_exporter": "python",
   "pygments_lexer": "ipython3",
   "version": "3.9.6"
  }
 },
 "nbformat": 4,
 "nbformat_minor": 2
}
